{
 "cells": [
  {
   "cell_type": "code",
   "execution_count": 12,
   "metadata": {},
   "outputs": [],
   "source": [
    "import numpy as np \n",
    "import matplotlib.pyplot as plt \n",
    "import math\n",
    "import pandas as pd  \n",
    "\n",
    "pi=3.14159\n",
    "e=2.71828\n",
    "h=6.626*10**(-34)\n",
    "m_e=9.1*10**(-31)\n",
    "k=1.38*10**(-23)\n",
    "Ee=1.6*10**(-19)\n",
    "Me=9.1*10**(-31)\n",
    "\n",
    "ne=5*10**7\n",
    "\n",
    "Tem=np.logspace(1,4,500)"
   ]
  },
  {
   "cell_type": "code",
   "execution_count": 13,
   "metadata": {},
   "outputs": [
    {
     "data": {
      "text/plain": [
       "[<matplotlib.lines.Line2D at 0x1ab81587588>]"
      ]
     },
     "execution_count": 13,
     "metadata": {},
     "output_type": "execute_result"
    },
    {
     "data": {
      "image/png": "[encoded data removed]",
      "text/plain": [
       "<Figure size 432x288 with 1 Axes>"
      ]
     },
     "metadata": {
      "needs_background": "light"
     },
     "output_type": "display_data"
    }
   ],
   "source": [
    "X=[]\n",
    "for each in range(len(Tem)):\n",
    "    aa=2*(1/2)*(1/ne)*(2*pi*Me)**(3/2)*(k*Tem[each])**(3/2)/h**3*np.power(e,-13.6*Ee/(k*Tem[each]))\n",
    "    X.append(aa/(aa+1))\n",
    "    \n",
    "plt.plot(Tem,X)"
   ]
  },
  {
   "cell_type": "code",
   "execution_count": 31,
   "metadata": {},
   "outputs": [
    {
     "data": {
      "text/plain": [
       "8.518255890317922e+26"
      ]
     },
     "execution_count": 31,
     "metadata": {},
     "output_type": "execute_result"
    }
   ],
   "source": [
    "(1/ne)*(2*pi*Me)**(3/2)*(k*5000)**(3/2)/h**3"
   ]
  },
  {
   "cell_type": "code",
   "execution_count": 25,
   "metadata": {},
   "outputs": [
    {
     "data": {
      "text/plain": [
       "6.626e-34"
      ]
     },
     "execution_count": 25,
     "metadata": {},
     "output_type": "execute_result"
    }
   ],
   "source": [
    "h"
   ]
  }
 ],
 "metadata": {
  "kernelspec": {
   "display_name": "Python 3",
   "language": "python",
   "name": "python3"
  },
  "language_info": {
   "codemirror_mode": {
    "name": "ipython",
    "version": 3
   },
   "file_extension": ".py",
   "mimetype": "text/x-python",
   "name": "python",
   "nbconvert_exporter": "python",
   "pygments_lexer": "ipython3",
   "version": "3.7.3"
  }
 },
 "nbformat": 4,
 "nbformat_minor": 2
}
